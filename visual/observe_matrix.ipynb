{
 "cells": [
  {
   "cell_type": "code",
   "execution_count": 4,
   "metadata": {},
   "outputs": [],
   "source": [
    "import os\n",
    "import re\n",
    "import json\n",
    "import numpy as np\n",
    "import pandas as pd\n",
    "import seaborn as sns\n",
    "import torch\n",
    "\n",
    "from glob import glob\n",
    "from matplotlib import pyplot as plt\n",
    "from pprint import pprint\n",
    "from tqdm import tqdm"
   ]
  },
  {
   "cell_type": "code",
   "execution_count": 104,
   "metadata": {},
   "outputs": [
    {
     "ename": "AttributeError",
     "evalue": "module 'torch' has no attribute 'uniform'",
     "output_type": "error",
     "traceback": [
      "\u001b[0;31m---------------------------------------------------------------------------\u001b[0m",
      "\u001b[0;31mAttributeError\u001b[0m                            Traceback (most recent call last)",
      "\u001b[0;32m<ipython-input-104-1385564df15c>\u001b[0m in \u001b[0;36m<module>\u001b[0;34m\u001b[0m\n\u001b[0;32m----> 1\u001b[0;31m \u001b[0mmatrix\u001b[0m \u001b[0;34m=\u001b[0m \u001b[0mtorch\u001b[0m\u001b[0;34m.\u001b[0m\u001b[0muniform\u001b[0m\u001b[0;34m(\u001b[0m\u001b[0mlow\u001b[0m\u001b[0;34m=\u001b[0m\u001b[0;34m-\u001b[0m\u001b[0;36m5\u001b[0m\u001b[0;34m,\u001b[0m \u001b[0mhigh\u001b[0m\u001b[0;34m=\u001b[0m\u001b[0;36m5\u001b[0m\u001b[0;34m,\u001b[0m \u001b[0msize\u001b[0m\u001b[0;34m=\u001b[0m\u001b[0;34m(\u001b[0m\u001b[0;36m3\u001b[0m\u001b[0;34m,\u001b[0m \u001b[0;36m10\u001b[0m\u001b[0;34m)\u001b[0m\u001b[0;34m)\u001b[0m\u001b[0;34m\u001b[0m\u001b[0;34m\u001b[0m\u001b[0m\n\u001b[0m",
      "\u001b[0;31mAttributeError\u001b[0m: module 'torch' has no attribute 'uniform'"
     ]
    }
   ],
   "source": [
    "matrix = torch.uniform(low=-5, high=5, size=(3, 10))"
   ]
  },
  {
   "cell_type": "code",
   "execution_count": 7,
   "metadata": {},
   "outputs": [],
   "source": [
    "distribution = torch.distributions.uniform.Uniform(low=-5, high=5, validate_args=None)"
   ]
  },
  {
   "cell_type": "code",
   "execution_count": 114,
   "metadata": {},
   "outputs": [],
   "source": [
    "matrix = torch.softmax(distribution.sample((5,10)), dim=1)"
   ]
  },
  {
   "cell_type": "code",
   "execution_count": 115,
   "metadata": {},
   "outputs": [
    {
     "data": {
      "text/plain": [
       "tensor([[2.4863e-02, 1.4132e-01, 8.2199e-04, 5.2855e-02, 1.8059e-01, 9.2676e-04,\n",
       "         4.6859e-01, 7.2675e-02, 3.3356e-02, 2.4000e-02],\n",
       "        [2.9720e-04, 7.8397e-02, 7.8009e-05, 7.1830e-01, 3.2468e-03, 1.6526e-01,\n",
       "         1.2391e-03, 3.1203e-02, 1.1599e-04, 1.8632e-03],\n",
       "        [2.1191e-02, 2.3130e-03, 9.5311e-03, 2.4872e-04, 1.4123e-02, 8.4976e-04,\n",
       "         9.1950e-01, 2.4360e-02, 7.7433e-03, 1.3559e-04],\n",
       "        [8.4940e-01, 2.8140e-03, 1.4983e-02, 2.2665e-03, 2.1899e-02, 3.7885e-02,\n",
       "         2.3422e-02, 9.0015e-04, 3.9438e-02, 6.9938e-03],\n",
       "        [6.9336e-02, 1.6489e-03, 3.1516e-01, 3.9333e-04, 1.5269e-04, 4.6245e-04,\n",
       "         2.8809e-01, 2.4767e-04, 1.2761e-02, 3.1176e-01]])"
      ]
     },
     "execution_count": 115,
     "metadata": {},
     "output_type": "execute_result"
    }
   ],
   "source": [
    "matrix"
   ]
  },
  {
   "cell_type": "code",
   "execution_count": 116,
   "metadata": {},
   "outputs": [
    {
     "data": {
      "text/plain": [
       "(tensor([[0.4686, 0.1806],\n",
       "         [0.7183, 0.1653],\n",
       "         [0.9195, 0.0244],\n",
       "         [0.8494, 0.0394],\n",
       "         [0.3152, 0.3118]]), tensor([[6, 4],\n",
       "         [3, 5],\n",
       "         [6, 7],\n",
       "         [0, 8],\n",
       "         [2, 9]]))"
      ]
     },
     "execution_count": 116,
     "metadata": {},
     "output_type": "execute_result"
    }
   ],
   "source": [
    "torch.topk(matrix, k=2, dim=1)"
   ]
  },
  {
   "cell_type": "code",
   "execution_count": 117,
   "metadata": {},
   "outputs": [],
   "source": [
    "values, indices = torch.topk(matrix, k=2, dim=1)"
   ]
  },
  {
   "cell_type": "code",
   "execution_count": 118,
   "metadata": {},
   "outputs": [
    {
     "data": {
      "text/plain": [
       "tensor([[6, 4],\n",
       "        [3, 5],\n",
       "        [6, 7],\n",
       "        [0, 8],\n",
       "        [2, 9]])"
      ]
     },
     "execution_count": 118,
     "metadata": {},
     "output_type": "execute_result"
    }
   ],
   "source": [
    "indices"
   ]
  },
  {
   "cell_type": "code",
   "execution_count": 119,
   "metadata": {},
   "outputs": [],
   "source": [
    "tmp = matrix.scatter(1, indices, torch.zeros_like(matrix))"
   ]
  },
  {
   "cell_type": "code",
   "execution_count": 120,
   "metadata": {},
   "outputs": [],
   "source": [
    "mask = tmp == 0"
   ]
  },
  {
   "cell_type": "code",
   "execution_count": 121,
   "metadata": {},
   "outputs": [],
   "source": [
    "result = matrix * mask.float()"
   ]
  },
  {
   "cell_type": "code",
   "execution_count": 132,
   "metadata": {},
   "outputs": [
    {
     "data": {
      "image/png": "[encoded data removed]",
      "text/plain": [
       "<Figure size 432x288 with 2 Axes>"
      ]
     },
     "metadata": {
      "needs_background": "light"
     },
     "output_type": "display_data"
    }
   ],
   "source": [
    "# plt.imshow(result.numpy())\n",
    "ax = sns.heatmap(result, cmap=\"YlGn\")\n",
    "ax.set_xlabel(\"word idx\")\n",
    "ax.set_ylabel(\"topic idx\")\n",
    "plt.show()"
   ]
  },
  {
   "cell_type": "code",
   "execution_count": null,
   "metadata": {},
   "outputs": [],
   "source": []
  }
 ],
 "metadata": {
  "kernelspec": {
   "display_name": "Python 3",
   "language": "python",
   "name": "python3"
  },
  "language_info": {
   "codemirror_mode": {
    "name": "ipython",
    "version": 3
   },
   "file_extension": ".py",
   "mimetype": "text/x-python",
   "name": "python",
   "nbconvert_exporter": "python",
   "pygments_lexer": "ipython3",
   "version": "3.6.8"
  }
 },
 "nbformat": 4,
 "nbformat_minor": 2
}
