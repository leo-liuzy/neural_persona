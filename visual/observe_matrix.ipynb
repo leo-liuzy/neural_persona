{
 "cells": [
  {
   "cell_type": "code",
   "execution_count": 140,
   "metadata": {},
   "outputs": [],
   "source": [
    "import os\n",
    "import re\n",
    "import json\n",
    "import numpy as np\n",
    "import pandas as pd\n",
    "import seaborn as sns\n",
    "from collections import Counter\n",
    "import torch\n",
    "\n",
    "from glob import glob\n",
    "from matplotlib import pyplot as plt\n",
    "from pprint import pprint\n",
    "from tqdm import tqdm"
   ]
  },
  {
   "cell_type": "code",
   "execution_count": 104,
   "metadata": {},
   "outputs": [
    {
     "ename": "AttributeError",
     "evalue": "module 'torch' has no attribute 'uniform'",
     "output_type": "error",
     "traceback": [
      "\u001b[0;31m---------------------------------------------------------------------------\u001b[0m",
      "\u001b[0;31mAttributeError\u001b[0m                            Traceback (most recent call last)",
      "\u001b[0;32m<ipython-input-104-1385564df15c>\u001b[0m in \u001b[0;36m<module>\u001b[0;34m\u001b[0m\n\u001b[0;32m----> 1\u001b[0;31m \u001b[0mmatrix\u001b[0m \u001b[0;34m=\u001b[0m \u001b[0mtorch\u001b[0m\u001b[0;34m.\u001b[0m\u001b[0muniform\u001b[0m\u001b[0;34m(\u001b[0m\u001b[0mlow\u001b[0m\u001b[0;34m=\u001b[0m\u001b[0;34m-\u001b[0m\u001b[0;36m5\u001b[0m\u001b[0;34m,\u001b[0m \u001b[0mhigh\u001b[0m\u001b[0;34m=\u001b[0m\u001b[0;36m5\u001b[0m\u001b[0;34m,\u001b[0m \u001b[0msize\u001b[0m\u001b[0;34m=\u001b[0m\u001b[0;34m(\u001b[0m\u001b[0;36m3\u001b[0m\u001b[0;34m,\u001b[0m \u001b[0;36m10\u001b[0m\u001b[0;34m)\u001b[0m\u001b[0;34m)\u001b[0m\u001b[0;34m\u001b[0m\u001b[0;34m\u001b[0m\u001b[0m\n\u001b[0m",
      "\u001b[0;31mAttributeError\u001b[0m: module 'torch' has no attribute 'uniform'"
     ]
    }
   ],
   "source": [
    "matrix = torch.uniform(low=-5, high=5, size=(3, 10))"
   ]
  },
  {
   "cell_type": "code",
   "execution_count": 7,
   "metadata": {},
   "outputs": [],
   "source": [
    "distribution = torch.distributions.uniform.Uniform(low=-5, high=5, validate_args=None)"
   ]
  },
  {
   "cell_type": "code",
   "execution_count": 114,
   "metadata": {},
   "outputs": [],
   "source": [
    "matrix = torch.softmax(distribution.sample((5,10)), dim=1)"
   ]
  },
  {
   "cell_type": "code",
   "execution_count": 115,
   "metadata": {},
   "outputs": [
    {
     "data": {
      "text/plain": [
       "tensor([[2.4863e-02, 1.4132e-01, 8.2199e-04, 5.2855e-02, 1.8059e-01, 9.2676e-04,\n",
       "         4.6859e-01, 7.2675e-02, 3.3356e-02, 2.4000e-02],\n",
       "        [2.9720e-04, 7.8397e-02, 7.8009e-05, 7.1830e-01, 3.2468e-03, 1.6526e-01,\n",
       "         1.2391e-03, 3.1203e-02, 1.1599e-04, 1.8632e-03],\n",
       "        [2.1191e-02, 2.3130e-03, 9.5311e-03, 2.4872e-04, 1.4123e-02, 8.4976e-04,\n",
       "         9.1950e-01, 2.4360e-02, 7.7433e-03, 1.3559e-04],\n",
       "        [8.4940e-01, 2.8140e-03, 1.4983e-02, 2.2665e-03, 2.1899e-02, 3.7885e-02,\n",
       "         2.3422e-02, 9.0015e-04, 3.9438e-02, 6.9938e-03],\n",
       "        [6.9336e-02, 1.6489e-03, 3.1516e-01, 3.9333e-04, 1.5269e-04, 4.6245e-04,\n",
       "         2.8809e-01, 2.4767e-04, 1.2761e-02, 3.1176e-01]])"
      ]
     },
     "execution_count": 115,
     "metadata": {},
     "output_type": "execute_result"
    }
   ],
   "source": [
    "matrix"
   ]
  },
  {
   "cell_type": "code",
   "execution_count": 116,
   "metadata": {},
   "outputs": [
    {
     "data": {
      "text/plain": [
       "(tensor([[0.4686, 0.1806],\n",
       "         [0.7183, 0.1653],\n",
       "         [0.9195, 0.0244],\n",
       "         [0.8494, 0.0394],\n",
       "         [0.3152, 0.3118]]), tensor([[6, 4],\n",
       "         [3, 5],\n",
       "         [6, 7],\n",
       "         [0, 8],\n",
       "         [2, 9]]))"
      ]
     },
     "execution_count": 116,
     "metadata": {},
     "output_type": "execute_result"
    }
   ],
   "source": [
    "torch.topk(matrix, k=2, dim=1)"
   ]
  },
  {
   "cell_type": "code",
   "execution_count": 117,
   "metadata": {},
   "outputs": [],
   "source": [
    "values, indices = torch.topk(matrix, k=2, dim=1)"
   ]
  },
  {
   "cell_type": "code",
   "execution_count": 118,
   "metadata": {},
   "outputs": [
    {
     "data": {
      "text/plain": [
       "tensor([[6, 4],\n",
       "        [3, 5],\n",
       "        [6, 7],\n",
       "        [0, 8],\n",
       "        [2, 9]])"
      ]
     },
     "execution_count": 118,
     "metadata": {},
     "output_type": "execute_result"
    }
   ],
   "source": [
    "indices"
   ]
  },
  {
   "cell_type": "code",
   "execution_count": 119,
   "metadata": {},
   "outputs": [],
   "source": [
    "tmp = matrix.scatter(1, indices, torch.zeros_like(matrix))"
   ]
  },
  {
   "cell_type": "code",
   "execution_count": 120,
   "metadata": {},
   "outputs": [],
   "source": [
    "mask = tmp == 0"
   ]
  },
  {
   "cell_type": "code",
   "execution_count": 121,
   "metadata": {},
   "outputs": [],
   "source": [
    "result = matrix * mask.float()"
   ]
  },
  {
   "cell_type": "code",
   "execution_count": 138,
   "metadata": {},
   "outputs": [
    {
     "data": {
      "image/png": "[encoded data removed]",
      "text/plain": [
       "<Figure size 432x288 with 2 Axes>"
      ]
     },
     "metadata": {},
     "output_type": "display_data"
    }
   ],
   "source": [
    "# plt.imshow(result.numpy())\n",
    "ax = sns.heatmap(result, cmap=\"YlGn\")\n",
    "ax.set_xlabel(\"word idx\")\n",
    "ax.set_ylabel(\"topic idx\")\n",
    "figure = ax.get_figure()\n",
    "figure.savefig(\"heatmap\")"
   ]
  },
  {
   "cell_type": "code",
   "execution_count": 196,
   "metadata": {},
   "outputs": [
    {
     "name": "stderr",
     "output_type": "stream",
     "text": [
      "/home/lzy/anaconda3/envs/py3/lib/python3.6/site-packages/ipykernel_launcher.py:24: UserWarning: Matplotlib is currently using module://ipykernel.pylab.backend_inline, which is a non-GUI backend, so cannot show the figure.\n"
     ]
    },
    {
     "data": {
      "text/plain": [
       "<Figure size 2376x720 with 0 Axes>"
      ]
     },
     "metadata": {},
     "output_type": "display_data"
    }
   ],
   "source": [
    "a = \"\"\"An essay is, generally, a piece of writing that gives the author's own argument — but the definition is vague, overlapping with those of a paper, an article, a pamphlet, and a short story. Essays have traditionally been sub-classified as formal and informal. Formal essays are characterized by \"serious purpose, dignity, logical organization, length,\" whereas the informal essay is characterized by \"the personal element (self-revelation, individual tastes and experiences, confidential manner), humor, graceful style, rambling structure, unconventionality or novelty of theme,\" etc.[1]\n",
    "\n",
    "Essays are commonly used as literary criticism, political manifestos, learned arguments, observations of daily life, recollections, and reflections of the author. Almost all modern essays are written in prose, but works in verse have been dubbed essays (e.g., Alexander Pope's An Essay on Criticism and An Essay on Man). While brevity usually defines an essay, voluminous works like John Locke's An Essay Concerning Human Understanding and Thomas Malthus's An Essay on the Principle of Population are counterexamples.\n",
    "\n",
    "In some countries (e.g., the United States and Canada), essays have become a major part of formal education. Secondary students are taught structured essay formats to improve their writing skills; admission essays are often used by universities in selecting applicants, and in the humanities and social sciences essays are often used as a way of assessing the performance of students during final exams.\n",
    "\n",
    "The concept of an \"essay\" has been extended to other media beyond writing. A film essay is a movie that often incorporates documentary filmmaking styles and focuses more on the evolution of a theme or idea. A photographic essay covers a topic with a linked series of photographs that may have accompanying text or captions.\"\"\".split(\" \")\n",
    "top_k = 100\n",
    "width = top_k // 3\n",
    "letter_counts = Counter(a)\n",
    "word2idx = {k: i for i, k in enumerate(letter_counts.keys())}\n",
    "idx2count = {word2idx[k]: v for k, v in letter_counts.items()}\n",
    "top_k_idx2count = dict(sorted(letter_counts.items(), key=lambda x: x[1], reverse=True)[:top_k])\n",
    "df = pd.DataFrame.from_dict(top_k_idx2count, orient='index')\n",
    "ax = df.plot(kind='bar')\n",
    "ax.tick_params(axis=\"x\", labelsize=10)\n",
    "figure = ax.get_figure()\n",
    "figure.set_figheight(10)\n",
    "figure.set_figwidth(width)\n",
    "# figure.set_fontsize(4)\n",
    "figure.subplots_adjust(bottom=0.7)\n",
    "figure.savefig(\"top_k_common_topic_word.png\", dpi=300)\n",
    "\n",
    "figure.show()\n",
    "figure.clf()"
   ]
  },
  {
   "cell_type": "code",
   "execution_count": null,
   "metadata": {},
   "outputs": [],
   "source": []
  }
 ],
 "metadata": {
  "kernelspec": {
   "display_name": "Python 3",
   "language": "python",
   "name": "python3"
  },
  "language_info": {
   "codemirror_mode": {
    "name": "ipython",
    "version": 3
   },
   "file_extension": ".py",
   "mimetype": "text/x-python",
   "name": "python",
   "nbconvert_exporter": "python",
   "pygments_lexer": "ipython3",
   "version": "3.6.8"
  }
 },
 "nbformat": 4,
 "nbformat_minor": 2
}
